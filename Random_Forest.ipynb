{
 "cells": [
  {
   "cell_type": "markdown",
   "id": "5f70f95a",
   "metadata": {},
   "source": [
    "# Final Project: Credit Card Default Prediction \n",
    "Author: Tobby Yang, Ivy Chen, Jackson Fang"
   ]
  },
  {
   "cell_type": "markdown",
   "id": "1c79aefd",
   "metadata": {},
   "source": [
    "## Data Preprocessing"
   ]
  },
  {
   "cell_type": "code",
   "execution_count": 16,
   "id": "46683220",
   "metadata": {},
   "outputs": [],
   "source": [
    "import pandas as pd\n",
    "import matplotlib.pyplot as plt\n",
    "import seaborn as sns"
   ]
  },
  {
   "cell_type": "code",
   "execution_count": 17,
   "id": "af7ed41d",
   "metadata": {},
   "outputs": [],
   "source": [
    "data = pd.read_csv('lending_club_loan_two.csv')"
   ]
  },
  {
   "cell_type": "code",
   "execution_count": 18,
   "id": "2ce8f861",
   "metadata": {},
   "outputs": [
    {
     "data": {
      "text/html": [
       "<div>\n",
       "<style scoped>\n",
       "    .dataframe tbody tr th:only-of-type {\n",
       "        vertical-align: middle;\n",
       "    }\n",
       "\n",
       "    .dataframe tbody tr th {\n",
       "        vertical-align: top;\n",
       "    }\n",
       "\n",
       "    .dataframe thead th {\n",
       "        text-align: right;\n",
       "    }\n",
       "</style>\n",
       "<table border=\"1\" class=\"dataframe\">\n",
       "  <thead>\n",
       "    <tr style=\"text-align: right;\">\n",
       "      <th></th>\n",
       "      <th>loan_amnt</th>\n",
       "      <th>term</th>\n",
       "      <th>int_rate</th>\n",
       "      <th>installment</th>\n",
       "      <th>grade</th>\n",
       "      <th>sub_grade</th>\n",
       "      <th>emp_title</th>\n",
       "      <th>emp_length</th>\n",
       "      <th>home_ownership</th>\n",
       "      <th>annual_inc</th>\n",
       "      <th>...</th>\n",
       "      <th>open_acc</th>\n",
       "      <th>pub_rec</th>\n",
       "      <th>revol_bal</th>\n",
       "      <th>revol_util</th>\n",
       "      <th>total_acc</th>\n",
       "      <th>initial_list_status</th>\n",
       "      <th>application_type</th>\n",
       "      <th>mort_acc</th>\n",
       "      <th>pub_rec_bankruptcies</th>\n",
       "      <th>address</th>\n",
       "    </tr>\n",
       "  </thead>\n",
       "  <tbody>\n",
       "    <tr>\n",
       "      <th>0</th>\n",
       "      <td>10000.0</td>\n",
       "      <td>36 months</td>\n",
       "      <td>11.44</td>\n",
       "      <td>329.48</td>\n",
       "      <td>B</td>\n",
       "      <td>B4</td>\n",
       "      <td>Marketing</td>\n",
       "      <td>10+ years</td>\n",
       "      <td>RENT</td>\n",
       "      <td>117000.0</td>\n",
       "      <td>...</td>\n",
       "      <td>16.0</td>\n",
       "      <td>0.0</td>\n",
       "      <td>36369.0</td>\n",
       "      <td>41.8</td>\n",
       "      <td>25.0</td>\n",
       "      <td>w</td>\n",
       "      <td>INDIVIDUAL</td>\n",
       "      <td>0.0</td>\n",
       "      <td>0.0</td>\n",
       "      <td>0174 Michelle Gateway\\r\\nMendozaberg, OK 22690</td>\n",
       "    </tr>\n",
       "    <tr>\n",
       "      <th>1</th>\n",
       "      <td>8000.0</td>\n",
       "      <td>36 months</td>\n",
       "      <td>11.99</td>\n",
       "      <td>265.68</td>\n",
       "      <td>B</td>\n",
       "      <td>B5</td>\n",
       "      <td>Credit analyst</td>\n",
       "      <td>4 years</td>\n",
       "      <td>MORTGAGE</td>\n",
       "      <td>65000.0</td>\n",
       "      <td>...</td>\n",
       "      <td>17.0</td>\n",
       "      <td>0.0</td>\n",
       "      <td>20131.0</td>\n",
       "      <td>53.3</td>\n",
       "      <td>27.0</td>\n",
       "      <td>f</td>\n",
       "      <td>INDIVIDUAL</td>\n",
       "      <td>3.0</td>\n",
       "      <td>0.0</td>\n",
       "      <td>1076 Carney Fort Apt. 347\\r\\nLoganmouth, SD 05113</td>\n",
       "    </tr>\n",
       "    <tr>\n",
       "      <th>2</th>\n",
       "      <td>15600.0</td>\n",
       "      <td>36 months</td>\n",
       "      <td>10.49</td>\n",
       "      <td>506.97</td>\n",
       "      <td>B</td>\n",
       "      <td>B3</td>\n",
       "      <td>Statistician</td>\n",
       "      <td>&lt; 1 year</td>\n",
       "      <td>RENT</td>\n",
       "      <td>43057.0</td>\n",
       "      <td>...</td>\n",
       "      <td>13.0</td>\n",
       "      <td>0.0</td>\n",
       "      <td>11987.0</td>\n",
       "      <td>92.2</td>\n",
       "      <td>26.0</td>\n",
       "      <td>f</td>\n",
       "      <td>INDIVIDUAL</td>\n",
       "      <td>0.0</td>\n",
       "      <td>0.0</td>\n",
       "      <td>87025 Mark Dale Apt. 269\\r\\nNew Sabrina, WV 05113</td>\n",
       "    </tr>\n",
       "    <tr>\n",
       "      <th>3</th>\n",
       "      <td>7200.0</td>\n",
       "      <td>36 months</td>\n",
       "      <td>6.49</td>\n",
       "      <td>220.65</td>\n",
       "      <td>A</td>\n",
       "      <td>A2</td>\n",
       "      <td>Client Advocate</td>\n",
       "      <td>6 years</td>\n",
       "      <td>RENT</td>\n",
       "      <td>54000.0</td>\n",
       "      <td>...</td>\n",
       "      <td>6.0</td>\n",
       "      <td>0.0</td>\n",
       "      <td>5472.0</td>\n",
       "      <td>21.5</td>\n",
       "      <td>13.0</td>\n",
       "      <td>f</td>\n",
       "      <td>INDIVIDUAL</td>\n",
       "      <td>0.0</td>\n",
       "      <td>0.0</td>\n",
       "      <td>823 Reid Ford\\r\\nDelacruzside, MA 00813</td>\n",
       "    </tr>\n",
       "    <tr>\n",
       "      <th>4</th>\n",
       "      <td>24375.0</td>\n",
       "      <td>60 months</td>\n",
       "      <td>17.27</td>\n",
       "      <td>609.33</td>\n",
       "      <td>C</td>\n",
       "      <td>C5</td>\n",
       "      <td>Destiny Management Inc.</td>\n",
       "      <td>9 years</td>\n",
       "      <td>MORTGAGE</td>\n",
       "      <td>55000.0</td>\n",
       "      <td>...</td>\n",
       "      <td>13.0</td>\n",
       "      <td>0.0</td>\n",
       "      <td>24584.0</td>\n",
       "      <td>69.8</td>\n",
       "      <td>43.0</td>\n",
       "      <td>f</td>\n",
       "      <td>INDIVIDUAL</td>\n",
       "      <td>1.0</td>\n",
       "      <td>0.0</td>\n",
       "      <td>679 Luna Roads\\r\\nGreggshire, VA 11650</td>\n",
       "    </tr>\n",
       "  </tbody>\n",
       "</table>\n",
       "<p>5 rows × 27 columns</p>\n",
       "</div>"
      ],
      "text/plain": [
       "   loan_amnt        term  int_rate  installment grade sub_grade  \\\n",
       "0    10000.0   36 months     11.44       329.48     B        B4   \n",
       "1     8000.0   36 months     11.99       265.68     B        B5   \n",
       "2    15600.0   36 months     10.49       506.97     B        B3   \n",
       "3     7200.0   36 months      6.49       220.65     A        A2   \n",
       "4    24375.0   60 months     17.27       609.33     C        C5   \n",
       "\n",
       "                 emp_title emp_length home_ownership  annual_inc  ...  \\\n",
       "0                Marketing  10+ years           RENT    117000.0  ...   \n",
       "1          Credit analyst     4 years       MORTGAGE     65000.0  ...   \n",
       "2             Statistician   < 1 year           RENT     43057.0  ...   \n",
       "3          Client Advocate    6 years           RENT     54000.0  ...   \n",
       "4  Destiny Management Inc.    9 years       MORTGAGE     55000.0  ...   \n",
       "\n",
       "  open_acc pub_rec revol_bal revol_util total_acc  initial_list_status  \\\n",
       "0     16.0     0.0   36369.0       41.8      25.0                    w   \n",
       "1     17.0     0.0   20131.0       53.3      27.0                    f   \n",
       "2     13.0     0.0   11987.0       92.2      26.0                    f   \n",
       "3      6.0     0.0    5472.0       21.5      13.0                    f   \n",
       "4     13.0     0.0   24584.0       69.8      43.0                    f   \n",
       "\n",
       "  application_type  mort_acc  pub_rec_bankruptcies  \\\n",
       "0       INDIVIDUAL       0.0                   0.0   \n",
       "1       INDIVIDUAL       3.0                   0.0   \n",
       "2       INDIVIDUAL       0.0                   0.0   \n",
       "3       INDIVIDUAL       0.0                   0.0   \n",
       "4       INDIVIDUAL       1.0                   0.0   \n",
       "\n",
       "                                             address  \n",
       "0     0174 Michelle Gateway\\r\\nMendozaberg, OK 22690  \n",
       "1  1076 Carney Fort Apt. 347\\r\\nLoganmouth, SD 05113  \n",
       "2  87025 Mark Dale Apt. 269\\r\\nNew Sabrina, WV 05113  \n",
       "3            823 Reid Ford\\r\\nDelacruzside, MA 00813  \n",
       "4             679 Luna Roads\\r\\nGreggshire, VA 11650  \n",
       "\n",
       "[5 rows x 27 columns]"
      ]
     },
     "execution_count": 18,
     "metadata": {},
     "output_type": "execute_result"
    }
   ],
   "source": [
    "data.head()"
   ]
  },
  {
   "cell_type": "markdown",
   "id": "a6e8a52f",
   "metadata": {},
   "source": [
    "#### Check emp_title variable"
   ]
  },
  {
   "cell_type": "code",
   "execution_count": 19,
   "id": "4217aac2",
   "metadata": {},
   "outputs": [
    {
     "data": {
      "text/plain": [
       "173105"
      ]
     },
     "execution_count": 19,
     "metadata": {},
     "output_type": "execute_result"
    }
   ],
   "source": [
    "data.emp_title.nunique()"
   ]
  },
  {
   "cell_type": "markdown",
   "id": "e83b3647",
   "metadata": {},
   "source": [
    "Since there are too many job titles, we need to drop it to avoid too many binary variables."
   ]
  },
  {
   "cell_type": "code",
   "execution_count": 20,
   "id": "71b250ca",
   "metadata": {},
   "outputs": [],
   "source": [
    "data.drop('emp_title', axis=1, inplace=True)"
   ]
  },
  {
   "cell_type": "markdown",
   "id": "87d9275a",
   "metadata": {},
   "source": [
    "#### Check emp_length"
   ]
  },
  {
   "cell_type": "code",
   "execution_count": 21,
   "id": "e8ed7db5",
   "metadata": {},
   "outputs": [
    {
     "name": "stdout",
     "output_type": "stream",
     "text": [
      "emp_length\n",
      "10+ years    126041\n",
      "2 years       35827\n",
      "< 1 year      31725\n",
      "3 years       31665\n",
      "5 years       26495\n",
      "1 year        25882\n",
      "4 years       23952\n",
      "6 years       20841\n",
      "7 years       20819\n",
      "8 years       19168\n",
      "NaN           18301\n",
      "9 years       15314\n",
      "Name: count, dtype: int64\n"
     ]
    }
   ],
   "source": [
    "# Check unique values\n",
    "print(data['emp_length'].value_counts(dropna=False))\n"
   ]
  },
  {
   "cell_type": "code",
   "execution_count": 22,
   "id": "191d0ed9",
   "metadata": {},
   "outputs": [],
   "source": [
    "# Clean and convert emp_length to ordered categorical type\n",
    "emp_order = ['< 1 year', '2 years', '3 years', '4 years', '5 years',\n",
    "             '6 years', '7 years', '8 years', '9 years', '10+ years']\n",
    "\n",
    "data['emp_length'] = pd.Categorical(data['emp_length'], categories=emp_order, ordered=True)\n"
   ]
  },
  {
   "cell_type": "code",
   "execution_count": 23,
   "id": "d584cace",
   "metadata": {},
   "outputs": [
    {
     "name": "stdout",
     "output_type": "stream",
     "text": [
      "loan_status\n",
      "Fully Paid     318357\n",
      "Charged Off     77673\n",
      "Name: count, dtype: int64\n"
     ]
    }
   ],
   "source": [
    "print(data['loan_status'].value_counts())\n"
   ]
  },
  {
   "cell_type": "code",
   "execution_count": 24,
   "id": "3c01acd0",
   "metadata": {},
   "outputs": [],
   "source": [
    "# Example: Define \"Good\" as fully paid or current\n",
    "good_status = ['Fully Paid']\n",
    "data['loan_status_binary'] = data['loan_status'].apply(lambda x: 0 if x in good_status else 1)\n",
    "data.drop('loan_status', axis=1, inplace=True)\n"
   ]
  },
  {
   "cell_type": "code",
   "execution_count": 25,
   "id": "ed06e004",
   "metadata": {},
   "outputs": [
    {
     "data": {
      "text/html": [
       "<div>\n",
       "<style scoped>\n",
       "    .dataframe tbody tr th:only-of-type {\n",
       "        vertical-align: middle;\n",
       "    }\n",
       "\n",
       "    .dataframe tbody tr th {\n",
       "        vertical-align: top;\n",
       "    }\n",
       "\n",
       "    .dataframe thead th {\n",
       "        text-align: right;\n",
       "    }\n",
       "</style>\n",
       "<table border=\"1\" class=\"dataframe\">\n",
       "  <thead>\n",
       "    <tr style=\"text-align: right;\">\n",
       "      <th>loan_status_binary</th>\n",
       "      <th>0</th>\n",
       "      <th>1</th>\n",
       "    </tr>\n",
       "    <tr>\n",
       "      <th>emp_length</th>\n",
       "      <th></th>\n",
       "      <th></th>\n",
       "    </tr>\n",
       "  </thead>\n",
       "  <tbody>\n",
       "    <tr>\n",
       "      <th>&lt; 1 year</th>\n",
       "      <td>79.312845</td>\n",
       "      <td>20.687155</td>\n",
       "    </tr>\n",
       "    <tr>\n",
       "      <th>2 years</th>\n",
       "      <td>80.673794</td>\n",
       "      <td>19.326206</td>\n",
       "    </tr>\n",
       "    <tr>\n",
       "      <th>3 years</th>\n",
       "      <td>80.476867</td>\n",
       "      <td>19.523133</td>\n",
       "    </tr>\n",
       "    <tr>\n",
       "      <th>4 years</th>\n",
       "      <td>80.761523</td>\n",
       "      <td>19.238477</td>\n",
       "    </tr>\n",
       "    <tr>\n",
       "      <th>5 years</th>\n",
       "      <td>80.781279</td>\n",
       "      <td>19.218721</td>\n",
       "    </tr>\n",
       "    <tr>\n",
       "      <th>6 years</th>\n",
       "      <td>81.080562</td>\n",
       "      <td>18.919438</td>\n",
       "    </tr>\n",
       "    <tr>\n",
       "      <th>7 years</th>\n",
       "      <td>80.522600</td>\n",
       "      <td>19.477400</td>\n",
       "    </tr>\n",
       "    <tr>\n",
       "      <th>8 years</th>\n",
       "      <td>80.023998</td>\n",
       "      <td>19.976002</td>\n",
       "    </tr>\n",
       "    <tr>\n",
       "      <th>9 years</th>\n",
       "      <td>79.952984</td>\n",
       "      <td>20.047016</td>\n",
       "    </tr>\n",
       "    <tr>\n",
       "      <th>10+ years</th>\n",
       "      <td>81.581390</td>\n",
       "      <td>18.418610</td>\n",
       "    </tr>\n",
       "  </tbody>\n",
       "</table>\n",
       "</div>"
      ],
      "text/plain": [
       "loan_status_binary          0          1\n",
       "emp_length                              \n",
       "< 1 year            79.312845  20.687155\n",
       "2 years             80.673794  19.326206\n",
       "3 years             80.476867  19.523133\n",
       "4 years             80.761523  19.238477\n",
       "5 years             80.781279  19.218721\n",
       "6 years             81.080562  18.919438\n",
       "7 years             80.522600  19.477400\n",
       "8 years             80.023998  19.976002\n",
       "9 years             79.952984  20.047016\n",
       "10+ years           81.581390  18.418610"
      ]
     },
     "execution_count": 25,
     "metadata": {},
     "output_type": "execute_result"
    }
   ],
   "source": [
    "# Crosstab\n",
    "pd.crosstab(data['emp_length'], data['loan_status_binary'], normalize='index') * 100\n"
   ]
  },
  {
   "cell_type": "code",
   "execution_count": 26,
   "id": "096c02b3",
   "metadata": {},
   "outputs": [],
   "source": [
    "data.drop('emp_length', axis=1, inplace=True)"
   ]
  },
  {
   "cell_type": "markdown",
   "id": "8d1101d2",
   "metadata": {},
   "source": [
    "Since we see a very similar pattern in loan status across emp_length, it does not provide too much information so we just drop it"
   ]
  },
  {
   "cell_type": "markdown",
   "id": "c23b28a4",
   "metadata": {},
   "source": [
    "#### Check differnce between title and purpose"
   ]
  },
  {
   "cell_type": "code",
   "execution_count": 27,
   "id": "6a711e84",
   "metadata": {},
   "outputs": [
    {
     "data": {
      "text/plain": [
       "title\n",
       "Debt consolidation         152472\n",
       "Credit card refinancing     51487\n",
       "Home improvement            15264\n",
       "Other                       12930\n",
       "Debt Consolidation          11608\n",
       "Name: count, dtype: int64"
      ]
     },
     "execution_count": 27,
     "metadata": {},
     "output_type": "execute_result"
    }
   ],
   "source": [
    "data.title.value_counts().head()"
   ]
  },
  {
   "cell_type": "code",
   "execution_count": 28,
   "id": "f12ad183",
   "metadata": {},
   "outputs": [
    {
     "data": {
      "text/plain": [
       "purpose\n",
       "debt_consolidation    234507\n",
       "credit_card            83019\n",
       "home_improvement       24030\n",
       "other                  21185\n",
       "major_purchase          8790\n",
       "Name: count, dtype: int64"
      ]
     },
     "execution_count": 28,
     "metadata": {},
     "output_type": "execute_result"
    }
   ],
   "source": [
    "data.purpose.value_counts().head()"
   ]
  },
  {
   "cell_type": "markdown",
   "id": "4e91badc",
   "metadata": {},
   "source": [
    "Since no huge difference, we drop title and keep the purpose"
   ]
  },
  {
   "cell_type": "code",
   "execution_count": 29,
   "id": "178038e3",
   "metadata": {},
   "outputs": [],
   "source": [
    "data.drop('title', axis=1, inplace=True)"
   ]
  },
  {
   "cell_type": "markdown",
   "id": "852e9500",
   "metadata": {},
   "source": [
    "#### Check mort_acc (number of mortgage account) missing values and refill with mean"
   ]
  },
  {
   "cell_type": "code",
   "execution_count": 30,
   "id": "8002608f",
   "metadata": {},
   "outputs": [
    {
     "data": {
      "text/plain": [
       "mort_acc\n",
       "0.0    139777\n",
       "1.0     60416\n",
       "2.0     49948\n",
       "3.0     38049\n",
       "4.0     27887\n",
       "Name: count, dtype: int64"
      ]
     },
     "execution_count": 30,
     "metadata": {},
     "output_type": "execute_result"
    }
   ],
   "source": [
    "data.mort_acc.value_counts().head()"
   ]
  },
  {
   "cell_type": "code",
   "execution_count": 31,
   "id": "108f33b0",
   "metadata": {},
   "outputs": [
    {
     "data": {
      "text/plain": [
       "37795"
      ]
     },
     "execution_count": 31,
     "metadata": {},
     "output_type": "execute_result"
    }
   ],
   "source": [
    "data.mort_acc.isna().sum()"
   ]
  },
  {
   "cell_type": "code",
   "execution_count": 32,
   "id": "509f7557",
   "metadata": {},
   "outputs": [
    {
     "data": {
      "text/html": [
       "<div>\n",
       "<style scoped>\n",
       "    .dataframe tbody tr th:only-of-type {\n",
       "        vertical-align: middle;\n",
       "    }\n",
       "\n",
       "    .dataframe tbody tr th {\n",
       "        vertical-align: top;\n",
       "    }\n",
       "\n",
       "    .dataframe thead th {\n",
       "        text-align: right;\n",
       "    }\n",
       "</style>\n",
       "<table border=\"1\" class=\"dataframe\">\n",
       "  <thead>\n",
       "    <tr style=\"text-align: right;\">\n",
       "      <th></th>\n",
       "      <th>mort_acc</th>\n",
       "      <th>total_acc</th>\n",
       "    </tr>\n",
       "  </thead>\n",
       "  <tbody>\n",
       "    <tr>\n",
       "      <th>mort_acc</th>\n",
       "      <td>1.000000</td>\n",
       "      <td>0.381072</td>\n",
       "    </tr>\n",
       "    <tr>\n",
       "      <th>total_acc</th>\n",
       "      <td>0.381072</td>\n",
       "      <td>1.000000</td>\n",
       "    </tr>\n",
       "  </tbody>\n",
       "</table>\n",
       "</div>"
      ],
      "text/plain": [
       "           mort_acc  total_acc\n",
       "mort_acc   1.000000   0.381072\n",
       "total_acc  0.381072   1.000000"
      ]
     },
     "execution_count": 32,
     "metadata": {},
     "output_type": "execute_result"
    }
   ],
   "source": [
    "# Check correlation\n",
    "data[['mort_acc', 'total_acc']].corr()\n"
   ]
  },
  {
   "cell_type": "markdown",
   "id": "7a5c44f0",
   "metadata": {},
   "source": [
    "Since total_acc (The total number of credit lines currently in the borrower's credit file) has a good correlation with mort_acc, we use this variable to help filling the missing value in mort_acc"
   ]
  },
  {
   "cell_type": "code",
   "execution_count": 33,
   "id": "54cb4640",
   "metadata": {},
   "outputs": [],
   "source": [
    "mort_acc_fill = data.groupby('total_acc')['mort_acc'].mean()\n",
    "\n",
    "def fill_mort_acc(row):\n",
    "    if pd.isnull(row['mort_acc']):\n",
    "        return mort_acc_fill.loc[row['total_acc']]\n",
    "    else:\n",
    "        return row['mort_acc']\n",
    "\n",
    "data['mort_acc'] = data.apply(fill_mort_acc, axis=1)\n"
   ]
  },
  {
   "cell_type": "code",
   "execution_count": 34,
   "id": "f5042647",
   "metadata": {},
   "outputs": [
    {
     "data": {
      "text/plain": [
       "0"
      ]
     },
     "execution_count": 34,
     "metadata": {},
     "output_type": "execute_result"
    }
   ],
   "source": [
    "data.mort_acc.isna().sum()"
   ]
  },
  {
   "cell_type": "markdown",
   "id": "4f0e880d",
   "metadata": {},
   "source": [
    "#### Check revol_util & pub_rec_bankruptcies"
   ]
  },
  {
   "cell_type": "code",
   "execution_count": 35,
   "id": "0631ce20",
   "metadata": {},
   "outputs": [
    {
     "name": "stdout",
     "output_type": "stream",
     "text": [
      "Missing revol_util: 276\n",
      "Missing pub_rec_bankruptcies: 535\n",
      "Missing revol_util (%): 0.0006969169002348307\n",
      "Missing pub_rec_bankruptcies (%): 0.0013509077595131682\n"
     ]
    }
   ],
   "source": [
    "# Number of missing values\n",
    "print(\"Missing revol_util:\", data['revol_util'].isna().sum())\n",
    "print(\"Missing pub_rec_bankruptcies:\", data['pub_rec_bankruptcies'].isna().sum())\n",
    "\n",
    "# % of missing values\n",
    "print(\"Missing revol_util (%):\", data['revol_util'].isna().mean())\n",
    "print(\"Missing pub_rec_bankruptcies (%):\", data['pub_rec_bankruptcies'].isna().mean())\n"
   ]
  },
  {
   "cell_type": "markdown",
   "id": "83ce9a4b",
   "metadata": {},
   "source": [
    "For revol_util, it is a skewed distribution variable, so we fill with median. For pub_rec_bankruptcies, it is always 0 so we fill with mode"
   ]
  },
  {
   "cell_type": "code",
   "execution_count": 36,
   "id": "db249d1f",
   "metadata": {},
   "outputs": [],
   "source": [
    "data['revol_util'] = data['revol_util'].fillna(data['revol_util'].median())\n",
    "data['pub_rec_bankruptcies'] = data['pub_rec_bankruptcies'].fillna(data['pub_rec_bankruptcies'].mode()[0])"
   ]
  },
  {
   "cell_type": "markdown",
   "id": "cd18f28c",
   "metadata": {},
   "source": [
    "#### Drop Other na's to ensure the model could function "
   ]
  },
  {
   "cell_type": "code",
   "execution_count": 37,
   "id": "349fadbc",
   "metadata": {},
   "outputs": [
    {
     "data": {
      "text/plain": [
       "396030"
      ]
     },
     "execution_count": 37,
     "metadata": {},
     "output_type": "execute_result"
    }
   ],
   "source": [
    "len(data)"
   ]
  },
  {
   "cell_type": "code",
   "execution_count": 38,
   "id": "afbabbe0",
   "metadata": {},
   "outputs": [],
   "source": [
    "data.dropna(inplace=True)"
   ]
  },
  {
   "cell_type": "code",
   "execution_count": 39,
   "id": "171f800a",
   "metadata": {},
   "outputs": [
    {
     "data": {
      "text/plain": [
       "396030"
      ]
     },
     "execution_count": 39,
     "metadata": {},
     "output_type": "execute_result"
    }
   ],
   "source": [
    "len(data)"
   ]
  },
  {
   "cell_type": "markdown",
   "id": "610c6e98",
   "metadata": {},
   "source": [
    "#### Clean categorical variables and dummy variables"
   ]
  },
  {
   "cell_type": "markdown",
   "id": "2d2b3ca9",
   "metadata": {},
   "source": [
    "Clean 'term'"
   ]
  },
  {
   "cell_type": "code",
   "execution_count": 40,
   "id": "50c72a8d",
   "metadata": {},
   "outputs": [],
   "source": [
    "term_values = {' 36 months': 36, ' 60 months': 60}\n",
    "data['term'] = data.term.map(term_values)"
   ]
  },
  {
   "cell_type": "markdown",
   "id": "7d21627e",
   "metadata": {},
   "source": [
    "Clean 'grade & sub_grade', since grade is same as sub_grade, we just drop it"
   ]
  },
  {
   "cell_type": "code",
   "execution_count": 41,
   "id": "19dfcd74",
   "metadata": {},
   "outputs": [],
   "source": [
    "data.drop('grade', axis=1, inplace=True)"
   ]
  },
  {
   "cell_type": "markdown",
   "id": "710b8174",
   "metadata": {},
   "source": [
    "Make Categorical Variables into Dummies"
   ]
  },
  {
   "cell_type": "code",
   "execution_count": 42,
   "id": "4d13affa",
   "metadata": {},
   "outputs": [],
   "source": [
    "dummies = ['sub_grade', 'verification_status', 'purpose', 'initial_list_status', \n",
    "           'application_type', 'home_ownership']\n",
    "# One-hot encode safely\n",
    "data = pd.get_dummies(data, columns=dummies, drop_first=True)"
   ]
  },
  {
   "cell_type": "markdown",
   "id": "d1d815ad",
   "metadata": {},
   "source": [
    "Clean address"
   ]
  },
  {
   "cell_type": "code",
   "execution_count": 43,
   "id": "e17c0c01",
   "metadata": {},
   "outputs": [
    {
     "data": {
      "text/plain": [
       "0       0174 Michelle Gateway\\r\\nMendozaberg, OK 22690\n",
       "1    1076 Carney Fort Apt. 347\\r\\nLoganmouth, SD 05113\n",
       "2    87025 Mark Dale Apt. 269\\r\\nNew Sabrina, WV 05113\n",
       "3              823 Reid Ford\\r\\nDelacruzside, MA 00813\n",
       "4               679 Luna Roads\\r\\nGreggshire, VA 11650\n",
       "Name: address, dtype: object"
      ]
     },
     "execution_count": 43,
     "metadata": {},
     "output_type": "execute_result"
    }
   ],
   "source": [
    "data.address.head()"
   ]
  },
  {
   "cell_type": "markdown",
   "id": "4777bd28",
   "metadata": {},
   "source": [
    "we only want the zip code in the end"
   ]
  },
  {
   "cell_type": "code",
   "execution_count": 44,
   "id": "56061e2d",
   "metadata": {},
   "outputs": [],
   "source": [
    "if 'address' in data.columns:\n",
    "    data['zip_code'] = data['address'].apply(lambda x: x[-5:])\n",
    "    data.drop('address', axis=1, inplace=True)"
   ]
  },
  {
   "cell_type": "code",
   "execution_count": 45,
   "id": "0f190b40",
   "metadata": {},
   "outputs": [
    {
     "data": {
      "text/plain": [
       "zip_code\n",
       "70466    56985\n",
       "30723    56546\n",
       "22690    56527\n",
       "48052    55917\n",
       "00813    45824\n",
       "29597    45471\n",
       "05113    45402\n",
       "11650    11226\n",
       "93700    11151\n",
       "86630    10981\n",
       "Name: count, dtype: int64"
      ]
     },
     "execution_count": 45,
     "metadata": {},
     "output_type": "execute_result"
    }
   ],
   "source": [
    "data.zip_code.value_counts()"
   ]
  },
  {
   "cell_type": "code",
   "execution_count": 46,
   "id": "8b20b624",
   "metadata": {},
   "outputs": [],
   "source": [
    "data = pd.get_dummies(data, columns=['zip_code'], drop_first=True)"
   ]
  },
  {
   "cell_type": "markdown",
   "id": "e8f00cac",
   "metadata": {},
   "source": [
    "Drop issue_d because we don't want the model knows whether a loan is issued when evaluating"
   ]
  },
  {
   "cell_type": "code",
   "execution_count": 47,
   "id": "6a190c4a",
   "metadata": {},
   "outputs": [],
   "source": [
    "data = data.drop('issue_d', axis=1)"
   ]
  },
  {
   "cell_type": "markdown",
   "id": "050f7405",
   "metadata": {},
   "source": [
    "Clean earliest_cr_line, which is a time feature"
   ]
  },
  {
   "cell_type": "code",
   "execution_count": 48,
   "id": "5e66fb68",
   "metadata": {},
   "outputs": [
    {
     "name": "stderr",
     "output_type": "stream",
     "text": [
      "/var/folders/jl/3nlnr52d30g_q0vq1dn9n60r0000gn/T/ipykernel_22497/1335824360.py:2: UserWarning: Could not infer format, so each element will be parsed individually, falling back to `dateutil`. To ensure parsing is consistent and as-expected, please specify a format.\n",
      "  data['earliest_cr_line'] = pd.to_datetime(data['earliest_cr_line'], errors='coerce')\n"
     ]
    }
   ],
   "source": [
    "# Convert earliest_cr_line to datetime first\n",
    "data['earliest_cr_line'] = pd.to_datetime(data['earliest_cr_line'], errors='coerce')\n",
    "\n",
    "# Then extract the year\n",
    "\n",
    "data['earliest_cr_line'] = data['earliest_cr_line'].dt.year"
   ]
  },
  {
   "cell_type": "markdown",
   "id": "a0a2805b",
   "metadata": {},
   "source": [
    "#### Check Cleaning Results"
   ]
  },
  {
   "cell_type": "code",
   "execution_count": 49,
   "id": "a96e3566",
   "metadata": {},
   "outputs": [
    {
     "data": {
      "text/html": [
       "<div>\n",
       "<style scoped>\n",
       "    .dataframe tbody tr th:only-of-type {\n",
       "        vertical-align: middle;\n",
       "    }\n",
       "\n",
       "    .dataframe tbody tr th {\n",
       "        vertical-align: top;\n",
       "    }\n",
       "\n",
       "    .dataframe thead th {\n",
       "        text-align: right;\n",
       "    }\n",
       "</style>\n",
       "<table border=\"1\" class=\"dataframe\">\n",
       "  <thead>\n",
       "    <tr style=\"text-align: right;\">\n",
       "      <th></th>\n",
       "      <th>loan_amnt</th>\n",
       "      <th>term</th>\n",
       "      <th>int_rate</th>\n",
       "      <th>installment</th>\n",
       "      <th>annual_inc</th>\n",
       "      <th>dti</th>\n",
       "      <th>earliest_cr_line</th>\n",
       "      <th>open_acc</th>\n",
       "      <th>pub_rec</th>\n",
       "      <th>revol_bal</th>\n",
       "      <th>...</th>\n",
       "      <th>home_ownership_RENT</th>\n",
       "      <th>zip_code_05113</th>\n",
       "      <th>zip_code_11650</th>\n",
       "      <th>zip_code_22690</th>\n",
       "      <th>zip_code_29597</th>\n",
       "      <th>zip_code_30723</th>\n",
       "      <th>zip_code_48052</th>\n",
       "      <th>zip_code_70466</th>\n",
       "      <th>zip_code_86630</th>\n",
       "      <th>zip_code_93700</th>\n",
       "    </tr>\n",
       "  </thead>\n",
       "  <tbody>\n",
       "    <tr>\n",
       "      <th>0</th>\n",
       "      <td>10000.0</td>\n",
       "      <td>36</td>\n",
       "      <td>11.44</td>\n",
       "      <td>329.48</td>\n",
       "      <td>117000.0</td>\n",
       "      <td>26.24</td>\n",
       "      <td>1990</td>\n",
       "      <td>16.0</td>\n",
       "      <td>0.0</td>\n",
       "      <td>36369.0</td>\n",
       "      <td>...</td>\n",
       "      <td>True</td>\n",
       "      <td>False</td>\n",
       "      <td>False</td>\n",
       "      <td>True</td>\n",
       "      <td>False</td>\n",
       "      <td>False</td>\n",
       "      <td>False</td>\n",
       "      <td>False</td>\n",
       "      <td>False</td>\n",
       "      <td>False</td>\n",
       "    </tr>\n",
       "    <tr>\n",
       "      <th>1</th>\n",
       "      <td>8000.0</td>\n",
       "      <td>36</td>\n",
       "      <td>11.99</td>\n",
       "      <td>265.68</td>\n",
       "      <td>65000.0</td>\n",
       "      <td>22.05</td>\n",
       "      <td>2004</td>\n",
       "      <td>17.0</td>\n",
       "      <td>0.0</td>\n",
       "      <td>20131.0</td>\n",
       "      <td>...</td>\n",
       "      <td>False</td>\n",
       "      <td>True</td>\n",
       "      <td>False</td>\n",
       "      <td>False</td>\n",
       "      <td>False</td>\n",
       "      <td>False</td>\n",
       "      <td>False</td>\n",
       "      <td>False</td>\n",
       "      <td>False</td>\n",
       "      <td>False</td>\n",
       "    </tr>\n",
       "    <tr>\n",
       "      <th>2</th>\n",
       "      <td>15600.0</td>\n",
       "      <td>36</td>\n",
       "      <td>10.49</td>\n",
       "      <td>506.97</td>\n",
       "      <td>43057.0</td>\n",
       "      <td>12.79</td>\n",
       "      <td>2007</td>\n",
       "      <td>13.0</td>\n",
       "      <td>0.0</td>\n",
       "      <td>11987.0</td>\n",
       "      <td>...</td>\n",
       "      <td>True</td>\n",
       "      <td>True</td>\n",
       "      <td>False</td>\n",
       "      <td>False</td>\n",
       "      <td>False</td>\n",
       "      <td>False</td>\n",
       "      <td>False</td>\n",
       "      <td>False</td>\n",
       "      <td>False</td>\n",
       "      <td>False</td>\n",
       "    </tr>\n",
       "    <tr>\n",
       "      <th>3</th>\n",
       "      <td>7200.0</td>\n",
       "      <td>36</td>\n",
       "      <td>6.49</td>\n",
       "      <td>220.65</td>\n",
       "      <td>54000.0</td>\n",
       "      <td>2.60</td>\n",
       "      <td>2006</td>\n",
       "      <td>6.0</td>\n",
       "      <td>0.0</td>\n",
       "      <td>5472.0</td>\n",
       "      <td>...</td>\n",
       "      <td>True</td>\n",
       "      <td>False</td>\n",
       "      <td>False</td>\n",
       "      <td>False</td>\n",
       "      <td>False</td>\n",
       "      <td>False</td>\n",
       "      <td>False</td>\n",
       "      <td>False</td>\n",
       "      <td>False</td>\n",
       "      <td>False</td>\n",
       "    </tr>\n",
       "    <tr>\n",
       "      <th>4</th>\n",
       "      <td>24375.0</td>\n",
       "      <td>60</td>\n",
       "      <td>17.27</td>\n",
       "      <td>609.33</td>\n",
       "      <td>55000.0</td>\n",
       "      <td>33.95</td>\n",
       "      <td>1999</td>\n",
       "      <td>13.0</td>\n",
       "      <td>0.0</td>\n",
       "      <td>24584.0</td>\n",
       "      <td>...</td>\n",
       "      <td>False</td>\n",
       "      <td>False</td>\n",
       "      <td>True</td>\n",
       "      <td>False</td>\n",
       "      <td>False</td>\n",
       "      <td>False</td>\n",
       "      <td>False</td>\n",
       "      <td>False</td>\n",
       "      <td>False</td>\n",
       "      <td>False</td>\n",
       "    </tr>\n",
       "  </tbody>\n",
       "</table>\n",
       "<p>5 rows × 81 columns</p>\n",
       "</div>"
      ],
      "text/plain": [
       "   loan_amnt  term  int_rate  installment  annual_inc    dti  \\\n",
       "0    10000.0    36     11.44       329.48    117000.0  26.24   \n",
       "1     8000.0    36     11.99       265.68     65000.0  22.05   \n",
       "2    15600.0    36     10.49       506.97     43057.0  12.79   \n",
       "3     7200.0    36      6.49       220.65     54000.0   2.60   \n",
       "4    24375.0    60     17.27       609.33     55000.0  33.95   \n",
       "\n",
       "   earliest_cr_line  open_acc  pub_rec  revol_bal  ...  home_ownership_RENT  \\\n",
       "0              1990      16.0      0.0    36369.0  ...                 True   \n",
       "1              2004      17.0      0.0    20131.0  ...                False   \n",
       "2              2007      13.0      0.0    11987.0  ...                 True   \n",
       "3              2006       6.0      0.0     5472.0  ...                 True   \n",
       "4              1999      13.0      0.0    24584.0  ...                False   \n",
       "\n",
       "   zip_code_05113  zip_code_11650  zip_code_22690  zip_code_29597  \\\n",
       "0           False           False            True           False   \n",
       "1            True           False           False           False   \n",
       "2            True           False           False           False   \n",
       "3           False           False           False           False   \n",
       "4           False            True           False           False   \n",
       "\n",
       "   zip_code_30723  zip_code_48052  zip_code_70466  zip_code_86630  \\\n",
       "0           False           False           False           False   \n",
       "1           False           False           False           False   \n",
       "2           False           False           False           False   \n",
       "3           False           False           False           False   \n",
       "4           False           False           False           False   \n",
       "\n",
       "   zip_code_93700  \n",
       "0           False  \n",
       "1           False  \n",
       "2           False  \n",
       "3           False  \n",
       "4           False  \n",
       "\n",
       "[5 rows x 81 columns]"
      ]
     },
     "execution_count": 49,
     "metadata": {},
     "output_type": "execute_result"
    }
   ],
   "source": [
    "data.head()"
   ]
  },
  {
   "cell_type": "code",
   "execution_count": 50,
   "id": "60566b98",
   "metadata": {},
   "outputs": [
    {
     "name": "stdout",
     "output_type": "stream",
     "text": [
      "Columns with missing values:\n",
      " Series([], dtype: int64)\n"
     ]
    }
   ],
   "source": [
    "missing = data.isnull().sum()\n",
    "missing = missing[missing > 0]\n",
    "print(\"Columns with missing values:\\n\", missing)\n"
   ]
  },
  {
   "cell_type": "code",
   "execution_count": 51,
   "id": "35d2efcf",
   "metadata": {},
   "outputs": [
    {
     "name": "stdout",
     "output_type": "stream",
     "text": [
      "Non-numeric columns:\n",
      " Index([], dtype='object')\n"
     ]
    }
   ],
   "source": [
    "non_numeric = data.select_dtypes(include=['object', 'category']).columns\n",
    "print(\"Non-numeric columns:\\n\", non_numeric)\n"
   ]
  },
  {
   "cell_type": "code",
   "execution_count": 52,
   "id": "fe3c27b2",
   "metadata": {},
   "outputs": [
    {
     "name": "stdout",
     "output_type": "stream",
     "text": [
      "loan_status_binary\n",
      "0    318357\n",
      "1     77673\n",
      "Name: count, dtype: int64\n"
     ]
    }
   ],
   "source": [
    "print(data['loan_status_binary'].value_counts())\n"
   ]
  },
  {
   "cell_type": "code",
   "execution_count": 53,
   "id": "3d1324b5",
   "metadata": {},
   "outputs": [
    {
     "name": "stdout",
     "output_type": "stream",
     "text": [
      "Number of duplicate rows: 0\n"
     ]
    }
   ],
   "source": [
    "duplicates = data.duplicated().sum()\n",
    "print(f\"Number of duplicate rows: {duplicates}\")\n"
   ]
  },
  {
   "cell_type": "markdown",
   "id": "06f9e810",
   "metadata": {},
   "source": [
    "## Random Forest Model"
   ]
  },
  {
   "cell_type": "code",
   "execution_count": 54,
   "id": "a8a59ff6",
   "metadata": {},
   "outputs": [
    {
     "name": "stdout",
     "output_type": "stream",
     "text": [
      "[[63415   201]\n",
      " [ 8605  6985]]\n",
      "              precision    recall  f1-score   support\n",
      "\n",
      "           0       0.88      1.00      0.94     63616\n",
      "           1       0.97      0.45      0.61     15590\n",
      "\n",
      "    accuracy                           0.89     79206\n",
      "   macro avg       0.93      0.72      0.77     79206\n",
      "weighted avg       0.90      0.89      0.87     79206\n",
      "\n"
     ]
    }
   ],
   "source": [
    "from sklearn.model_selection import train_test_split\n",
    "from sklearn.ensemble import RandomForestClassifier\n",
    "from sklearn.metrics import classification_report, confusion_matrix\n",
    "\n",
    "# Split data (update the target variable name accordingly, e.g., 'loan_status' or similar)\n",
    "X = data.drop('loan_status_binary', axis=1)  \n",
    "y = data['loan_status_binary']               \n",
    "\n",
    "# Train/test split\n",
    "X_train, X_test, y_train, y_test = train_test_split(X, y, test_size=0.2, random_state=666)\n",
    "\n",
    "# Fit Random Forest model\n",
    "rfc = RandomForestClassifier(n_estimators=500, random_state=666)\n",
    "rfc.fit(X_train, y_train)\n",
    "\n",
    "# Predict and evaluate\n",
    "y_pred = rfc.predict(X_test)\n",
    "print(confusion_matrix(y_test, y_pred))\n",
    "print(classification_report(y_test, y_pred))\n"
   ]
  },
  {
   "cell_type": "code",
   "execution_count": 56,
   "id": "14968c34",
   "metadata": {},
   "outputs": [
    {
     "data": {
      "image/png": "[encoded data removed]",
      "text/plain": [
       "<Figure size 1000x600 with 1 Axes>"
      ]
     },
     "metadata": {},
     "output_type": "display_data"
    }
   ],
   "source": [
    "import matplotlib.pyplot as plt\n",
    "import pandas as pd\n",
    "import numpy as np\n",
    "\n",
    "# Get feature importances\n",
    "importances = rfc.feature_importances_\n",
    "feature_names = X.columns\n",
    "indices = np.argsort(importances)[-10:]  # Top 15 important features\n",
    "\n",
    "# Plot\n",
    "plt.figure(figsize=(10, 6))\n",
    "plt.barh(feature_names[indices], importances[indices], color='blue')\n",
    "plt.xlabel(\"Feature Importance Score\")\n",
    "plt.title(\"Top 10 Important Features from Random Forest\")\n",
    "plt.tight_layout()\n",
    "plt.show()\n"
   ]
  },
  {
   "cell_type": "markdown",
   "id": "03734336",
   "metadata": {},
   "source": []
  }
 ],
 "metadata": {
  "kernelspec": {
   "display_name": "base",
   "language": "python",
   "name": "python3"
  },
  "language_info": {
   "codemirror_mode": {
    "name": "ipython",
    "version": 3
   },
   "file_extension": ".py",
   "mimetype": "text/x-python",
   "name": "python",
   "nbconvert_exporter": "python",
   "pygments_lexer": "ipython3",
   "version": "3.9.13"
  }
 },
 "nbformat": 4,
 "nbformat_minor": 5
}
